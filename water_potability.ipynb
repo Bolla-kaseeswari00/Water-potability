{
  "nbformat": 4,
  "nbformat_minor": 0,
  "metadata": {
    "colab": {
      "name": "water_potability.ipynb",
      "provenance": [],
      "collapsed_sections": [],
      "authorship_tag": "ABX9TyMZefmyPT8RZvc0AgPb7Ch6",
      "include_colab_link": true
    },
    "kernelspec": {
      "display_name": "Python 3",
      "name": "python3"
    },
    "language_info": {
      "name": "python"
    }
  },
  "cells": [
    {
      "cell_type": "markdown",
      "metadata": {
        "id": "view-in-github",
        "colab_type": "text"
      },
      "source": [
        "<a href=\"https://colab.research.google.com/github/Bolla-kaseeswari00/Water-potability/blob/main/water_potability.ipynb\" target=\"_parent\"><img src=\"https://colab.research.google.com/assets/colab-badge.svg\" alt=\"Open In Colab\"/></a>"
      ]
    },
    {
      "cell_type": "markdown",
      "metadata": {
        "id": "44Og_QQTvKJ7"
      },
      "source": [
        "IMPORTING REQUIRED LIBRARIES"
      ]
    },
    {
      "cell_type": "code",
      "metadata": {
        "id": "SWQCWiNW4dCH"
      },
      "source": [
        "import pandas as pd\n",
        "import matplotlib.pyplot as plt\n",
        "import seaborn as sns"
      ],
      "execution_count": null,
      "outputs": []
    },
    {
      "cell_type": "markdown",
      "metadata": {
        "id": "bxd_42BEvQIF"
      },
      "source": [
        "LOADING DATASET AND ACCESING DATA "
      ]
    },
    {
      "cell_type": "code",
      "metadata": {
        "id": "GiiOeXsW50eW"
      },
      "source": [
        "dataset=pd.read_csv(r\"water_potability.csv\")"
      ],
      "execution_count": 5,
      "outputs": []
    },
    {
      "cell_type": "code",
      "metadata": {
        "colab": {
          "base_uri": "https://localhost:8080/"
        },
        "id": "G2n8PXJi6uHg",
        "outputId": "76c0f0bd-b434-4d35-a9b7-b2f7759bdfa1"
      },
      "source": [
        "dataset.shape         #ROWS,COLUMNS"
      ],
      "execution_count": null,
      "outputs": [
        {
          "output_type": "execute_result",
          "data": {
            "text/plain": [
              "(3276, 10)"
            ]
          },
          "metadata": {},
          "execution_count": 29
        }
      ]
    },
    {
      "cell_type": "code",
      "metadata": {
        "colab": {
          "base_uri": "https://localhost:8080/",
          "height": 419
        },
        "id": "3rRDcCZM2eTL",
        "outputId": "9c81569d-fded-4ac2-f9c4-57ba12334ad2"
      },
      "source": [
        "dataset"
      ],
      "execution_count": 6,
      "outputs": [
        {
          "output_type": "execute_result",
          "data": {
            "text/html": [
              "<div>\n",
              "<style scoped>\n",
              "    .dataframe tbody tr th:only-of-type {\n",
              "        vertical-align: middle;\n",
              "    }\n",
              "\n",
              "    .dataframe tbody tr th {\n",
              "        vertical-align: top;\n",
              "    }\n",
              "\n",
              "    .dataframe thead th {\n",
              "        text-align: right;\n",
              "    }\n",
              "</style>\n",
              "<table border=\"1\" class=\"dataframe\">\n",
              "  <thead>\n",
              "    <tr style=\"text-align: right;\">\n",
              "      <th></th>\n",
              "      <th>ph</th>\n",
              "      <th>Hardness</th>\n",
              "      <th>Solids</th>\n",
              "      <th>Chloramines</th>\n",
              "      <th>Sulfate</th>\n",
              "      <th>Conductivity</th>\n",
              "      <th>Organic_carbon</th>\n",
              "      <th>Trihalomethanes</th>\n",
              "      <th>Turbidity</th>\n",
              "      <th>Potability</th>\n",
              "    </tr>\n",
              "  </thead>\n",
              "  <tbody>\n",
              "    <tr>\n",
              "      <th>0</th>\n",
              "      <td>NaN</td>\n",
              "      <td>204.890455</td>\n",
              "      <td>20791.318981</td>\n",
              "      <td>7.300212</td>\n",
              "      <td>368.516441</td>\n",
              "      <td>564.308654</td>\n",
              "      <td>10.379783</td>\n",
              "      <td>86.990970</td>\n",
              "      <td>2.963135</td>\n",
              "      <td>0</td>\n",
              "    </tr>\n",
              "    <tr>\n",
              "      <th>1</th>\n",
              "      <td>3.716080</td>\n",
              "      <td>129.422921</td>\n",
              "      <td>18630.057858</td>\n",
              "      <td>6.635246</td>\n",
              "      <td>NaN</td>\n",
              "      <td>592.885359</td>\n",
              "      <td>15.180013</td>\n",
              "      <td>56.329076</td>\n",
              "      <td>4.500656</td>\n",
              "      <td>0</td>\n",
              "    </tr>\n",
              "    <tr>\n",
              "      <th>2</th>\n",
              "      <td>8.099124</td>\n",
              "      <td>224.236259</td>\n",
              "      <td>19909.541732</td>\n",
              "      <td>9.275884</td>\n",
              "      <td>NaN</td>\n",
              "      <td>418.606213</td>\n",
              "      <td>16.868637</td>\n",
              "      <td>66.420093</td>\n",
              "      <td>3.055934</td>\n",
              "      <td>0</td>\n",
              "    </tr>\n",
              "    <tr>\n",
              "      <th>3</th>\n",
              "      <td>8.316766</td>\n",
              "      <td>214.373394</td>\n",
              "      <td>22018.417441</td>\n",
              "      <td>8.059332</td>\n",
              "      <td>356.886136</td>\n",
              "      <td>363.266516</td>\n",
              "      <td>18.436524</td>\n",
              "      <td>100.341674</td>\n",
              "      <td>4.628771</td>\n",
              "      <td>0</td>\n",
              "    </tr>\n",
              "    <tr>\n",
              "      <th>4</th>\n",
              "      <td>9.092223</td>\n",
              "      <td>181.101509</td>\n",
              "      <td>17978.986339</td>\n",
              "      <td>6.546600</td>\n",
              "      <td>310.135738</td>\n",
              "      <td>398.410813</td>\n",
              "      <td>11.558279</td>\n",
              "      <td>31.997993</td>\n",
              "      <td>4.075075</td>\n",
              "      <td>0</td>\n",
              "    </tr>\n",
              "    <tr>\n",
              "      <th>...</th>\n",
              "      <td>...</td>\n",
              "      <td>...</td>\n",
              "      <td>...</td>\n",
              "      <td>...</td>\n",
              "      <td>...</td>\n",
              "      <td>...</td>\n",
              "      <td>...</td>\n",
              "      <td>...</td>\n",
              "      <td>...</td>\n",
              "      <td>...</td>\n",
              "    </tr>\n",
              "    <tr>\n",
              "      <th>3271</th>\n",
              "      <td>4.668102</td>\n",
              "      <td>193.681735</td>\n",
              "      <td>47580.991603</td>\n",
              "      <td>7.166639</td>\n",
              "      <td>359.948574</td>\n",
              "      <td>526.424171</td>\n",
              "      <td>13.894419</td>\n",
              "      <td>66.687695</td>\n",
              "      <td>4.435821</td>\n",
              "      <td>1</td>\n",
              "    </tr>\n",
              "    <tr>\n",
              "      <th>3272</th>\n",
              "      <td>7.808856</td>\n",
              "      <td>193.553212</td>\n",
              "      <td>17329.802160</td>\n",
              "      <td>8.061362</td>\n",
              "      <td>NaN</td>\n",
              "      <td>392.449580</td>\n",
              "      <td>19.903225</td>\n",
              "      <td>NaN</td>\n",
              "      <td>2.798243</td>\n",
              "      <td>1</td>\n",
              "    </tr>\n",
              "    <tr>\n",
              "      <th>3273</th>\n",
              "      <td>9.419510</td>\n",
              "      <td>175.762646</td>\n",
              "      <td>33155.578218</td>\n",
              "      <td>7.350233</td>\n",
              "      <td>NaN</td>\n",
              "      <td>432.044783</td>\n",
              "      <td>11.039070</td>\n",
              "      <td>69.845400</td>\n",
              "      <td>3.298875</td>\n",
              "      <td>1</td>\n",
              "    </tr>\n",
              "    <tr>\n",
              "      <th>3274</th>\n",
              "      <td>5.126763</td>\n",
              "      <td>230.603758</td>\n",
              "      <td>11983.869376</td>\n",
              "      <td>6.303357</td>\n",
              "      <td>NaN</td>\n",
              "      <td>402.883113</td>\n",
              "      <td>11.168946</td>\n",
              "      <td>77.488213</td>\n",
              "      <td>4.708658</td>\n",
              "      <td>1</td>\n",
              "    </tr>\n",
              "    <tr>\n",
              "      <th>3275</th>\n",
              "      <td>7.874671</td>\n",
              "      <td>195.102299</td>\n",
              "      <td>17404.177061</td>\n",
              "      <td>7.509306</td>\n",
              "      <td>NaN</td>\n",
              "      <td>327.459760</td>\n",
              "      <td>16.140368</td>\n",
              "      <td>78.698446</td>\n",
              "      <td>2.309149</td>\n",
              "      <td>1</td>\n",
              "    </tr>\n",
              "  </tbody>\n",
              "</table>\n",
              "<p>3276 rows × 10 columns</p>\n",
              "</div>"
            ],
            "text/plain": [
              "            ph    Hardness  ...  Turbidity  Potability\n",
              "0          NaN  204.890455  ...   2.963135           0\n",
              "1     3.716080  129.422921  ...   4.500656           0\n",
              "2     8.099124  224.236259  ...   3.055934           0\n",
              "3     8.316766  214.373394  ...   4.628771           0\n",
              "4     9.092223  181.101509  ...   4.075075           0\n",
              "...        ...         ...  ...        ...         ...\n",
              "3271  4.668102  193.681735  ...   4.435821           1\n",
              "3272  7.808856  193.553212  ...   2.798243           1\n",
              "3273  9.419510  175.762646  ...   3.298875           1\n",
              "3274  5.126763  230.603758  ...   4.708658           1\n",
              "3275  7.874671  195.102299  ...   2.309149           1\n",
              "\n",
              "[3276 rows x 10 columns]"
            ]
          },
          "metadata": {},
          "execution_count": 6
        }
      ]
    },
    {
      "cell_type": "code",
      "metadata": {
        "colab": {
          "base_uri": "https://localhost:8080/",
          "height": 1000
        },
        "id": "ydZ-pFo97PJP",
        "outputId": "53525f8d-9baf-44ee-caf9-1b0c98a0962c"
      },
      "source": [
        "dataset.head(50)"
      ],
      "execution_count": 7,
      "outputs": [
        {
          "output_type": "execute_result",
          "data": {
            "text/html": [
              "<div>\n",
              "<style scoped>\n",
              "    .dataframe tbody tr th:only-of-type {\n",
              "        vertical-align: middle;\n",
              "    }\n",
              "\n",
              "    .dataframe tbody tr th {\n",
              "        vertical-align: top;\n",
              "    }\n",
              "\n",
              "    .dataframe thead th {\n",
              "        text-align: right;\n",
              "    }\n",
              "</style>\n",
              "<table border=\"1\" class=\"dataframe\">\n",
              "  <thead>\n",
              "    <tr style=\"text-align: right;\">\n",
              "      <th></th>\n",
              "      <th>ph</th>\n",
              "      <th>Hardness</th>\n",
              "      <th>Solids</th>\n",
              "      <th>Chloramines</th>\n",
              "      <th>Sulfate</th>\n",
              "      <th>Conductivity</th>\n",
              "      <th>Organic_carbon</th>\n",
              "      <th>Trihalomethanes</th>\n",
              "      <th>Turbidity</th>\n",
              "      <th>Potability</th>\n",
              "    </tr>\n",
              "  </thead>\n",
              "  <tbody>\n",
              "    <tr>\n",
              "      <th>0</th>\n",
              "      <td>NaN</td>\n",
              "      <td>204.890455</td>\n",
              "      <td>20791.318981</td>\n",
              "      <td>7.300212</td>\n",
              "      <td>368.516441</td>\n",
              "      <td>564.308654</td>\n",
              "      <td>10.379783</td>\n",
              "      <td>86.990970</td>\n",
              "      <td>2.963135</td>\n",
              "      <td>0</td>\n",
              "    </tr>\n",
              "    <tr>\n",
              "      <th>1</th>\n",
              "      <td>3.716080</td>\n",
              "      <td>129.422921</td>\n",
              "      <td>18630.057858</td>\n",
              "      <td>6.635246</td>\n",
              "      <td>NaN</td>\n",
              "      <td>592.885359</td>\n",
              "      <td>15.180013</td>\n",
              "      <td>56.329076</td>\n",
              "      <td>4.500656</td>\n",
              "      <td>0</td>\n",
              "    </tr>\n",
              "    <tr>\n",
              "      <th>2</th>\n",
              "      <td>8.099124</td>\n",
              "      <td>224.236259</td>\n",
              "      <td>19909.541732</td>\n",
              "      <td>9.275884</td>\n",
              "      <td>NaN</td>\n",
              "      <td>418.606213</td>\n",
              "      <td>16.868637</td>\n",
              "      <td>66.420093</td>\n",
              "      <td>3.055934</td>\n",
              "      <td>0</td>\n",
              "    </tr>\n",
              "    <tr>\n",
              "      <th>3</th>\n",
              "      <td>8.316766</td>\n",
              "      <td>214.373394</td>\n",
              "      <td>22018.417441</td>\n",
              "      <td>8.059332</td>\n",
              "      <td>356.886136</td>\n",
              "      <td>363.266516</td>\n",
              "      <td>18.436524</td>\n",
              "      <td>100.341674</td>\n",
              "      <td>4.628771</td>\n",
              "      <td>0</td>\n",
              "    </tr>\n",
              "    <tr>\n",
              "      <th>4</th>\n",
              "      <td>9.092223</td>\n",
              "      <td>181.101509</td>\n",
              "      <td>17978.986339</td>\n",
              "      <td>6.546600</td>\n",
              "      <td>310.135738</td>\n",
              "      <td>398.410813</td>\n",
              "      <td>11.558279</td>\n",
              "      <td>31.997993</td>\n",
              "      <td>4.075075</td>\n",
              "      <td>0</td>\n",
              "    </tr>\n",
              "    <tr>\n",
              "      <th>5</th>\n",
              "      <td>5.584087</td>\n",
              "      <td>188.313324</td>\n",
              "      <td>28748.687739</td>\n",
              "      <td>7.544869</td>\n",
              "      <td>326.678363</td>\n",
              "      <td>280.467916</td>\n",
              "      <td>8.399735</td>\n",
              "      <td>54.917862</td>\n",
              "      <td>2.559708</td>\n",
              "      <td>0</td>\n",
              "    </tr>\n",
              "    <tr>\n",
              "      <th>6</th>\n",
              "      <td>10.223862</td>\n",
              "      <td>248.071735</td>\n",
              "      <td>28749.716544</td>\n",
              "      <td>7.513408</td>\n",
              "      <td>393.663396</td>\n",
              "      <td>283.651634</td>\n",
              "      <td>13.789695</td>\n",
              "      <td>84.603556</td>\n",
              "      <td>2.672989</td>\n",
              "      <td>0</td>\n",
              "    </tr>\n",
              "    <tr>\n",
              "      <th>7</th>\n",
              "      <td>8.635849</td>\n",
              "      <td>203.361523</td>\n",
              "      <td>13672.091764</td>\n",
              "      <td>4.563009</td>\n",
              "      <td>303.309771</td>\n",
              "      <td>474.607645</td>\n",
              "      <td>12.363817</td>\n",
              "      <td>62.798309</td>\n",
              "      <td>4.401425</td>\n",
              "      <td>0</td>\n",
              "    </tr>\n",
              "    <tr>\n",
              "      <th>8</th>\n",
              "      <td>NaN</td>\n",
              "      <td>118.988579</td>\n",
              "      <td>14285.583854</td>\n",
              "      <td>7.804174</td>\n",
              "      <td>268.646941</td>\n",
              "      <td>389.375566</td>\n",
              "      <td>12.706049</td>\n",
              "      <td>53.928846</td>\n",
              "      <td>3.595017</td>\n",
              "      <td>0</td>\n",
              "    </tr>\n",
              "    <tr>\n",
              "      <th>9</th>\n",
              "      <td>11.180284</td>\n",
              "      <td>227.231469</td>\n",
              "      <td>25484.508491</td>\n",
              "      <td>9.077200</td>\n",
              "      <td>404.041635</td>\n",
              "      <td>563.885481</td>\n",
              "      <td>17.927806</td>\n",
              "      <td>71.976601</td>\n",
              "      <td>4.370562</td>\n",
              "      <td>0</td>\n",
              "    </tr>\n",
              "    <tr>\n",
              "      <th>10</th>\n",
              "      <td>7.360640</td>\n",
              "      <td>165.520797</td>\n",
              "      <td>32452.614409</td>\n",
              "      <td>7.550701</td>\n",
              "      <td>326.624353</td>\n",
              "      <td>425.383419</td>\n",
              "      <td>15.586810</td>\n",
              "      <td>78.740016</td>\n",
              "      <td>3.662292</td>\n",
              "      <td>0</td>\n",
              "    </tr>\n",
              "    <tr>\n",
              "      <th>11</th>\n",
              "      <td>7.974522</td>\n",
              "      <td>218.693300</td>\n",
              "      <td>18767.656682</td>\n",
              "      <td>8.110385</td>\n",
              "      <td>NaN</td>\n",
              "      <td>364.098230</td>\n",
              "      <td>14.525746</td>\n",
              "      <td>76.485911</td>\n",
              "      <td>4.011718</td>\n",
              "      <td>0</td>\n",
              "    </tr>\n",
              "    <tr>\n",
              "      <th>12</th>\n",
              "      <td>7.119824</td>\n",
              "      <td>156.704993</td>\n",
              "      <td>18730.813653</td>\n",
              "      <td>3.606036</td>\n",
              "      <td>282.344050</td>\n",
              "      <td>347.715027</td>\n",
              "      <td>15.929536</td>\n",
              "      <td>79.500778</td>\n",
              "      <td>3.445756</td>\n",
              "      <td>0</td>\n",
              "    </tr>\n",
              "    <tr>\n",
              "      <th>13</th>\n",
              "      <td>NaN</td>\n",
              "      <td>150.174923</td>\n",
              "      <td>27331.361962</td>\n",
              "      <td>6.838223</td>\n",
              "      <td>299.415781</td>\n",
              "      <td>379.761835</td>\n",
              "      <td>19.370807</td>\n",
              "      <td>76.509996</td>\n",
              "      <td>4.413974</td>\n",
              "      <td>0</td>\n",
              "    </tr>\n",
              "    <tr>\n",
              "      <th>14</th>\n",
              "      <td>7.496232</td>\n",
              "      <td>205.344982</td>\n",
              "      <td>28388.004887</td>\n",
              "      <td>5.072558</td>\n",
              "      <td>NaN</td>\n",
              "      <td>444.645352</td>\n",
              "      <td>13.228311</td>\n",
              "      <td>70.300213</td>\n",
              "      <td>4.777382</td>\n",
              "      <td>0</td>\n",
              "    </tr>\n",
              "    <tr>\n",
              "      <th>15</th>\n",
              "      <td>6.347272</td>\n",
              "      <td>186.732881</td>\n",
              "      <td>41065.234765</td>\n",
              "      <td>9.629596</td>\n",
              "      <td>364.487687</td>\n",
              "      <td>516.743282</td>\n",
              "      <td>11.539781</td>\n",
              "      <td>75.071617</td>\n",
              "      <td>4.376348</td>\n",
              "      <td>0</td>\n",
              "    </tr>\n",
              "    <tr>\n",
              "      <th>16</th>\n",
              "      <td>7.051786</td>\n",
              "      <td>211.049406</td>\n",
              "      <td>30980.600787</td>\n",
              "      <td>10.094796</td>\n",
              "      <td>NaN</td>\n",
              "      <td>315.141267</td>\n",
              "      <td>20.397022</td>\n",
              "      <td>56.651604</td>\n",
              "      <td>4.268429</td>\n",
              "      <td>0</td>\n",
              "    </tr>\n",
              "    <tr>\n",
              "      <th>17</th>\n",
              "      <td>9.181560</td>\n",
              "      <td>273.813807</td>\n",
              "      <td>24041.326280</td>\n",
              "      <td>6.904990</td>\n",
              "      <td>398.350517</td>\n",
              "      <td>477.974642</td>\n",
              "      <td>13.387341</td>\n",
              "      <td>71.457362</td>\n",
              "      <td>4.503661</td>\n",
              "      <td>0</td>\n",
              "    </tr>\n",
              "    <tr>\n",
              "      <th>18</th>\n",
              "      <td>8.975464</td>\n",
              "      <td>279.357167</td>\n",
              "      <td>19460.398131</td>\n",
              "      <td>6.204321</td>\n",
              "      <td>NaN</td>\n",
              "      <td>431.443990</td>\n",
              "      <td>12.888759</td>\n",
              "      <td>63.821237</td>\n",
              "      <td>2.436086</td>\n",
              "      <td>0</td>\n",
              "    </tr>\n",
              "    <tr>\n",
              "      <th>19</th>\n",
              "      <td>7.371050</td>\n",
              "      <td>214.496610</td>\n",
              "      <td>25630.320037</td>\n",
              "      <td>4.432669</td>\n",
              "      <td>335.754439</td>\n",
              "      <td>469.914551</td>\n",
              "      <td>12.509164</td>\n",
              "      <td>62.797277</td>\n",
              "      <td>2.560299</td>\n",
              "      <td>0</td>\n",
              "    </tr>\n",
              "    <tr>\n",
              "      <th>20</th>\n",
              "      <td>NaN</td>\n",
              "      <td>227.435048</td>\n",
              "      <td>22305.567414</td>\n",
              "      <td>10.333918</td>\n",
              "      <td>NaN</td>\n",
              "      <td>554.820086</td>\n",
              "      <td>16.331693</td>\n",
              "      <td>45.382815</td>\n",
              "      <td>4.133423</td>\n",
              "      <td>0</td>\n",
              "    </tr>\n",
              "    <tr>\n",
              "      <th>21</th>\n",
              "      <td>6.660212</td>\n",
              "      <td>168.283747</td>\n",
              "      <td>30944.363591</td>\n",
              "      <td>5.858769</td>\n",
              "      <td>310.930858</td>\n",
              "      <td>523.671298</td>\n",
              "      <td>17.884235</td>\n",
              "      <td>77.042318</td>\n",
              "      <td>3.749701</td>\n",
              "      <td>0</td>\n",
              "    </tr>\n",
              "    <tr>\n",
              "      <th>22</th>\n",
              "      <td>NaN</td>\n",
              "      <td>215.977859</td>\n",
              "      <td>17107.224226</td>\n",
              "      <td>5.607060</td>\n",
              "      <td>326.943978</td>\n",
              "      <td>436.256194</td>\n",
              "      <td>14.189062</td>\n",
              "      <td>59.855476</td>\n",
              "      <td>5.459251</td>\n",
              "      <td>0</td>\n",
              "    </tr>\n",
              "    <tr>\n",
              "      <th>23</th>\n",
              "      <td>3.902476</td>\n",
              "      <td>196.903247</td>\n",
              "      <td>21167.500099</td>\n",
              "      <td>6.996312</td>\n",
              "      <td>NaN</td>\n",
              "      <td>444.478883</td>\n",
              "      <td>16.609033</td>\n",
              "      <td>90.181676</td>\n",
              "      <td>4.528523</td>\n",
              "      <td>0</td>\n",
              "    </tr>\n",
              "    <tr>\n",
              "      <th>24</th>\n",
              "      <td>5.400302</td>\n",
              "      <td>140.739062</td>\n",
              "      <td>17266.593422</td>\n",
              "      <td>10.056852</td>\n",
              "      <td>328.358241</td>\n",
              "      <td>472.874073</td>\n",
              "      <td>11.256381</td>\n",
              "      <td>56.931906</td>\n",
              "      <td>4.824786</td>\n",
              "      <td>0</td>\n",
              "    </tr>\n",
              "    <tr>\n",
              "      <th>25</th>\n",
              "      <td>6.514415</td>\n",
              "      <td>198.767351</td>\n",
              "      <td>21218.702871</td>\n",
              "      <td>8.670937</td>\n",
              "      <td>323.596349</td>\n",
              "      <td>413.290450</td>\n",
              "      <td>14.900000</td>\n",
              "      <td>79.847843</td>\n",
              "      <td>5.200885</td>\n",
              "      <td>0</td>\n",
              "    </tr>\n",
              "    <tr>\n",
              "      <th>26</th>\n",
              "      <td>3.445062</td>\n",
              "      <td>207.926260</td>\n",
              "      <td>33424.768678</td>\n",
              "      <td>8.782147</td>\n",
              "      <td>384.007006</td>\n",
              "      <td>441.785876</td>\n",
              "      <td>13.805902</td>\n",
              "      <td>30.284597</td>\n",
              "      <td>4.184397</td>\n",
              "      <td>0</td>\n",
              "    </tr>\n",
              "    <tr>\n",
              "      <th>27</th>\n",
              "      <td>NaN</td>\n",
              "      <td>145.768181</td>\n",
              "      <td>13224.935639</td>\n",
              "      <td>7.906445</td>\n",
              "      <td>304.001993</td>\n",
              "      <td>298.990666</td>\n",
              "      <td>12.729525</td>\n",
              "      <td>49.536849</td>\n",
              "      <td>4.004871</td>\n",
              "      <td>0</td>\n",
              "    </tr>\n",
              "    <tr>\n",
              "      <th>28</th>\n",
              "      <td>NaN</td>\n",
              "      <td>266.421018</td>\n",
              "      <td>26362.965012</td>\n",
              "      <td>7.700063</td>\n",
              "      <td>395.389490</td>\n",
              "      <td>364.480107</td>\n",
              "      <td>10.348951</td>\n",
              "      <td>53.008381</td>\n",
              "      <td>3.991564</td>\n",
              "      <td>0</td>\n",
              "    </tr>\n",
              "    <tr>\n",
              "      <th>29</th>\n",
              "      <td>NaN</td>\n",
              "      <td>148.153061</td>\n",
              "      <td>15193.413474</td>\n",
              "      <td>9.046833</td>\n",
              "      <td>307.011793</td>\n",
              "      <td>563.804743</td>\n",
              "      <td>16.568656</td>\n",
              "      <td>52.676185</td>\n",
              "      <td>6.038185</td>\n",
              "      <td>0</td>\n",
              "    </tr>\n",
              "    <tr>\n",
              "      <th>30</th>\n",
              "      <td>7.181449</td>\n",
              "      <td>209.625601</td>\n",
              "      <td>15196.229987</td>\n",
              "      <td>5.994679</td>\n",
              "      <td>338.336431</td>\n",
              "      <td>342.111286</td>\n",
              "      <td>7.922598</td>\n",
              "      <td>71.537953</td>\n",
              "      <td>5.088860</td>\n",
              "      <td>0</td>\n",
              "    </tr>\n",
              "    <tr>\n",
              "      <th>31</th>\n",
              "      <td>9.825490</td>\n",
              "      <td>190.756618</td>\n",
              "      <td>19677.892466</td>\n",
              "      <td>6.757541</td>\n",
              "      <td>NaN</td>\n",
              "      <td>452.836235</td>\n",
              "      <td>16.899038</td>\n",
              "      <td>47.081971</td>\n",
              "      <td>2.857472</td>\n",
              "      <td>0</td>\n",
              "    </tr>\n",
              "    <tr>\n",
              "      <th>32</th>\n",
              "      <td>10.433291</td>\n",
              "      <td>117.791230</td>\n",
              "      <td>22326.892046</td>\n",
              "      <td>8.161505</td>\n",
              "      <td>307.707509</td>\n",
              "      <td>412.986834</td>\n",
              "      <td>12.890709</td>\n",
              "      <td>65.733478</td>\n",
              "      <td>5.057311</td>\n",
              "      <td>0</td>\n",
              "    </tr>\n",
              "    <tr>\n",
              "      <th>33</th>\n",
              "      <td>7.414148</td>\n",
              "      <td>235.044534</td>\n",
              "      <td>32555.852537</td>\n",
              "      <td>6.845952</td>\n",
              "      <td>387.175316</td>\n",
              "      <td>411.983364</td>\n",
              "      <td>10.244815</td>\n",
              "      <td>44.489297</td>\n",
              "      <td>3.160624</td>\n",
              "      <td>0</td>\n",
              "    </tr>\n",
              "    <tr>\n",
              "      <th>34</th>\n",
              "      <td>NaN</td>\n",
              "      <td>232.280452</td>\n",
              "      <td>14787.206265</td>\n",
              "      <td>5.474915</td>\n",
              "      <td>NaN</td>\n",
              "      <td>383.981723</td>\n",
              "      <td>12.166937</td>\n",
              "      <td>86.080727</td>\n",
              "      <td>5.029167</td>\n",
              "      <td>0</td>\n",
              "    </tr>\n",
              "    <tr>\n",
              "      <th>35</th>\n",
              "      <td>5.115817</td>\n",
              "      <td>191.952743</td>\n",
              "      <td>19620.545329</td>\n",
              "      <td>6.060713</td>\n",
              "      <td>323.836384</td>\n",
              "      <td>441.748379</td>\n",
              "      <td>10.966486</td>\n",
              "      <td>49.238231</td>\n",
              "      <td>3.902089</td>\n",
              "      <td>0</td>\n",
              "    </tr>\n",
              "    <tr>\n",
              "      <th>36</th>\n",
              "      <td>3.641630</td>\n",
              "      <td>183.908722</td>\n",
              "      <td>24752.072460</td>\n",
              "      <td>5.538314</td>\n",
              "      <td>286.059556</td>\n",
              "      <td>456.860096</td>\n",
              "      <td>9.034067</td>\n",
              "      <td>73.594657</td>\n",
              "      <td>3.464353</td>\n",
              "      <td>0</td>\n",
              "    </tr>\n",
              "    <tr>\n",
              "      <th>37</th>\n",
              "      <td>5.618064</td>\n",
              "      <td>304.235912</td>\n",
              "      <td>17281.975168</td>\n",
              "      <td>6.101084</td>\n",
              "      <td>NaN</td>\n",
              "      <td>399.471566</td>\n",
              "      <td>12.265002</td>\n",
              "      <td>81.588992</td>\n",
              "      <td>2.896547</td>\n",
              "      <td>0</td>\n",
              "    </tr>\n",
              "    <tr>\n",
              "      <th>38</th>\n",
              "      <td>NaN</td>\n",
              "      <td>143.453731</td>\n",
              "      <td>19942.273218</td>\n",
              "      <td>5.890755</td>\n",
              "      <td>NaN</td>\n",
              "      <td>427.130671</td>\n",
              "      <td>22.469892</td>\n",
              "      <td>53.124094</td>\n",
              "      <td>2.907564</td>\n",
              "      <td>0</td>\n",
              "    </tr>\n",
              "    <tr>\n",
              "      <th>39</th>\n",
              "      <td>9.267188</td>\n",
              "      <td>198.614395</td>\n",
              "      <td>24683.723566</td>\n",
              "      <td>6.110612</td>\n",
              "      <td>328.077533</td>\n",
              "      <td>396.876949</td>\n",
              "      <td>16.471969</td>\n",
              "      <td>30.383315</td>\n",
              "      <td>4.324005</td>\n",
              "      <td>0</td>\n",
              "    </tr>\n",
              "    <tr>\n",
              "      <th>40</th>\n",
              "      <td>NaN</td>\n",
              "      <td>233.858996</td>\n",
              "      <td>11703.923907</td>\n",
              "      <td>4.599388</td>\n",
              "      <td>309.039320</td>\n",
              "      <td>349.399633</td>\n",
              "      <td>18.338893</td>\n",
              "      <td>42.677465</td>\n",
              "      <td>3.510004</td>\n",
              "      <td>0</td>\n",
              "    </tr>\n",
              "    <tr>\n",
              "      <th>41</th>\n",
              "      <td>5.331940</td>\n",
              "      <td>194.874065</td>\n",
              "      <td>16658.876503</td>\n",
              "      <td>7.993830</td>\n",
              "      <td>316.675162</td>\n",
              "      <td>335.120398</td>\n",
              "      <td>10.180514</td>\n",
              "      <td>59.572714</td>\n",
              "      <td>4.434820</td>\n",
              "      <td>0</td>\n",
              "    </tr>\n",
              "    <tr>\n",
              "      <th>42</th>\n",
              "      <td>7.145772</td>\n",
              "      <td>238.689929</td>\n",
              "      <td>28780.340432</td>\n",
              "      <td>6.814029</td>\n",
              "      <td>385.975650</td>\n",
              "      <td>332.032706</td>\n",
              "      <td>11.093163</td>\n",
              "      <td>66.138045</td>\n",
              "      <td>5.182591</td>\n",
              "      <td>0</td>\n",
              "    </tr>\n",
              "    <tr>\n",
              "      <th>43</th>\n",
              "      <td>9.920691</td>\n",
              "      <td>202.817483</td>\n",
              "      <td>9973.934059</td>\n",
              "      <td>6.882248</td>\n",
              "      <td>337.350529</td>\n",
              "      <td>333.192470</td>\n",
              "      <td>23.917601</td>\n",
              "      <td>71.833624</td>\n",
              "      <td>4.690707</td>\n",
              "      <td>0</td>\n",
              "    </tr>\n",
              "    <tr>\n",
              "      <th>44</th>\n",
              "      <td>4.758439</td>\n",
              "      <td>183.349454</td>\n",
              "      <td>21568.428779</td>\n",
              "      <td>4.731349</td>\n",
              "      <td>NaN</td>\n",
              "      <td>403.944168</td>\n",
              "      <td>18.668229</td>\n",
              "      <td>66.912400</td>\n",
              "      <td>4.542801</td>\n",
              "      <td>0</td>\n",
              "    </tr>\n",
              "    <tr>\n",
              "      <th>45</th>\n",
              "      <td>5.702926</td>\n",
              "      <td>216.850474</td>\n",
              "      <td>35606.440177</td>\n",
              "      <td>7.184351</td>\n",
              "      <td>NaN</td>\n",
              "      <td>504.638260</td>\n",
              "      <td>16.140790</td>\n",
              "      <td>77.536184</td>\n",
              "      <td>4.137739</td>\n",
              "      <td>0</td>\n",
              "    </tr>\n",
              "    <tr>\n",
              "      <th>46</th>\n",
              "      <td>6.953864</td>\n",
              "      <td>209.638293</td>\n",
              "      <td>10575.186281</td>\n",
              "      <td>4.462707</td>\n",
              "      <td>315.606594</td>\n",
              "      <td>391.184315</td>\n",
              "      <td>13.285334</td>\n",
              "      <td>87.390889</td>\n",
              "      <td>3.195710</td>\n",
              "      <td>0</td>\n",
              "    </tr>\n",
              "    <tr>\n",
              "      <th>47</th>\n",
              "      <td>10.682966</td>\n",
              "      <td>173.375498</td>\n",
              "      <td>15758.740621</td>\n",
              "      <td>5.570784</td>\n",
              "      <td>307.352586</td>\n",
              "      <td>323.807913</td>\n",
              "      <td>10.090870</td>\n",
              "      <td>78.472784</td>\n",
              "      <td>3.999775</td>\n",
              "      <td>0</td>\n",
              "    </tr>\n",
              "    <tr>\n",
              "      <th>48</th>\n",
              "      <td>NaN</td>\n",
              "      <td>129.890572</td>\n",
              "      <td>34415.853146</td>\n",
              "      <td>6.321929</td>\n",
              "      <td>304.535224</td>\n",
              "      <td>470.329169</td>\n",
              "      <td>18.599410</td>\n",
              "      <td>72.403634</td>\n",
              "      <td>4.405586</td>\n",
              "      <td>0</td>\n",
              "    </tr>\n",
              "    <tr>\n",
              "      <th>49</th>\n",
              "      <td>8.757257</td>\n",
              "      <td>200.191400</td>\n",
              "      <td>21536.224687</td>\n",
              "      <td>4.915101</td>\n",
              "      <td>317.882900</td>\n",
              "      <td>404.717799</td>\n",
              "      <td>13.768323</td>\n",
              "      <td>47.930872</td>\n",
              "      <td>3.626135</td>\n",
              "      <td>0</td>\n",
              "    </tr>\n",
              "  </tbody>\n",
              "</table>\n",
              "</div>"
            ],
            "text/plain": [
              "           ph    Hardness        Solids  ...  Trihalomethanes  Turbidity  Potability\n",
              "0         NaN  204.890455  20791.318981  ...        86.990970   2.963135           0\n",
              "1    3.716080  129.422921  18630.057858  ...        56.329076   4.500656           0\n",
              "2    8.099124  224.236259  19909.541732  ...        66.420093   3.055934           0\n",
              "3    8.316766  214.373394  22018.417441  ...       100.341674   4.628771           0\n",
              "4    9.092223  181.101509  17978.986339  ...        31.997993   4.075075           0\n",
              "5    5.584087  188.313324  28748.687739  ...        54.917862   2.559708           0\n",
              "6   10.223862  248.071735  28749.716544  ...        84.603556   2.672989           0\n",
              "7    8.635849  203.361523  13672.091764  ...        62.798309   4.401425           0\n",
              "8         NaN  118.988579  14285.583854  ...        53.928846   3.595017           0\n",
              "9   11.180284  227.231469  25484.508491  ...        71.976601   4.370562           0\n",
              "10   7.360640  165.520797  32452.614409  ...        78.740016   3.662292           0\n",
              "11   7.974522  218.693300  18767.656682  ...        76.485911   4.011718           0\n",
              "12   7.119824  156.704993  18730.813653  ...        79.500778   3.445756           0\n",
              "13        NaN  150.174923  27331.361962  ...        76.509996   4.413974           0\n",
              "14   7.496232  205.344982  28388.004887  ...        70.300213   4.777382           0\n",
              "15   6.347272  186.732881  41065.234765  ...        75.071617   4.376348           0\n",
              "16   7.051786  211.049406  30980.600787  ...        56.651604   4.268429           0\n",
              "17   9.181560  273.813807  24041.326280  ...        71.457362   4.503661           0\n",
              "18   8.975464  279.357167  19460.398131  ...        63.821237   2.436086           0\n",
              "19   7.371050  214.496610  25630.320037  ...        62.797277   2.560299           0\n",
              "20        NaN  227.435048  22305.567414  ...        45.382815   4.133423           0\n",
              "21   6.660212  168.283747  30944.363591  ...        77.042318   3.749701           0\n",
              "22        NaN  215.977859  17107.224226  ...        59.855476   5.459251           0\n",
              "23   3.902476  196.903247  21167.500099  ...        90.181676   4.528523           0\n",
              "24   5.400302  140.739062  17266.593422  ...        56.931906   4.824786           0\n",
              "25   6.514415  198.767351  21218.702871  ...        79.847843   5.200885           0\n",
              "26   3.445062  207.926260  33424.768678  ...        30.284597   4.184397           0\n",
              "27        NaN  145.768181  13224.935639  ...        49.536849   4.004871           0\n",
              "28        NaN  266.421018  26362.965012  ...        53.008381   3.991564           0\n",
              "29        NaN  148.153061  15193.413474  ...        52.676185   6.038185           0\n",
              "30   7.181449  209.625601  15196.229987  ...        71.537953   5.088860           0\n",
              "31   9.825490  190.756618  19677.892466  ...        47.081971   2.857472           0\n",
              "32  10.433291  117.791230  22326.892046  ...        65.733478   5.057311           0\n",
              "33   7.414148  235.044534  32555.852537  ...        44.489297   3.160624           0\n",
              "34        NaN  232.280452  14787.206265  ...        86.080727   5.029167           0\n",
              "35   5.115817  191.952743  19620.545329  ...        49.238231   3.902089           0\n",
              "36   3.641630  183.908722  24752.072460  ...        73.594657   3.464353           0\n",
              "37   5.618064  304.235912  17281.975168  ...        81.588992   2.896547           0\n",
              "38        NaN  143.453731  19942.273218  ...        53.124094   2.907564           0\n",
              "39   9.267188  198.614395  24683.723566  ...        30.383315   4.324005           0\n",
              "40        NaN  233.858996  11703.923907  ...        42.677465   3.510004           0\n",
              "41   5.331940  194.874065  16658.876503  ...        59.572714   4.434820           0\n",
              "42   7.145772  238.689929  28780.340432  ...        66.138045   5.182591           0\n",
              "43   9.920691  202.817483   9973.934059  ...        71.833624   4.690707           0\n",
              "44   4.758439  183.349454  21568.428779  ...        66.912400   4.542801           0\n",
              "45   5.702926  216.850474  35606.440177  ...        77.536184   4.137739           0\n",
              "46   6.953864  209.638293  10575.186281  ...        87.390889   3.195710           0\n",
              "47  10.682966  173.375498  15758.740621  ...        78.472784   3.999775           0\n",
              "48        NaN  129.890572  34415.853146  ...        72.403634   4.405586           0\n",
              "49   8.757257  200.191400  21536.224687  ...        47.930872   3.626135           0\n",
              "\n",
              "[50 rows x 10 columns]"
            ]
          },
          "metadata": {},
          "execution_count": 7
        }
      ]
    },
    {
      "cell_type": "markdown",
      "metadata": {
        "id": "byiE9pVus05f"
      },
      "source": [
        "DATACLEANING"
      ]
    },
    {
      "cell_type": "code",
      "metadata": {
        "id": "irfxtw8A7lRu",
        "colab": {
          "base_uri": "https://localhost:8080/"
        },
        "outputId": "d1a1a96c-1707-47e7-d069-3c514e324345"
      },
      "source": [
        "dataset.info();          #NO. OF NOTNULL VALUES"
      ],
      "execution_count": 8,
      "outputs": [
        {
          "output_type": "stream",
          "name": "stdout",
          "text": [
            "<class 'pandas.core.frame.DataFrame'>\n",
            "RangeIndex: 3276 entries, 0 to 3275\n",
            "Data columns (total 10 columns):\n",
            " #   Column           Non-Null Count  Dtype  \n",
            "---  ------           --------------  -----  \n",
            " 0   ph               2785 non-null   float64\n",
            " 1   Hardness         3276 non-null   float64\n",
            " 2   Solids           3276 non-null   float64\n",
            " 3   Chloramines      3276 non-null   float64\n",
            " 4   Sulfate          2495 non-null   float64\n",
            " 5   Conductivity     3276 non-null   float64\n",
            " 6   Organic_carbon   3276 non-null   float64\n",
            " 7   Trihalomethanes  3114 non-null   float64\n",
            " 8   Turbidity        3276 non-null   float64\n",
            " 9   Potability       3276 non-null   int64  \n",
            "dtypes: float64(9), int64(1)\n",
            "memory usage: 256.1 KB\n"
          ]
        }
      ]
    },
    {
      "cell_type": "code",
      "metadata": {
        "id": "co2i0cEu78t_",
        "colab": {
          "base_uri": "https://localhost:8080/"
        },
        "outputId": "af042f01-94a6-49a3-fda2-88618cc6c740"
      },
      "source": [
        "dataset.isnull().sum()   #NO. OF NULLVALUES"
      ],
      "execution_count": 9,
      "outputs": [
        {
          "output_type": "execute_result",
          "data": {
            "text/plain": [
              "ph                 491\n",
              "Hardness             0\n",
              "Solids               0\n",
              "Chloramines          0\n",
              "Sulfate            781\n",
              "Conductivity         0\n",
              "Organic_carbon       0\n",
              "Trihalomethanes    162\n",
              "Turbidity            0\n",
              "Potability           0\n",
              "dtype: int64"
            ]
          },
          "metadata": {},
          "execution_count": 9
        }
      ]
    },
    {
      "cell_type": "code",
      "metadata": {
        "id": "dsa0SJvy9uI3"
      },
      "source": [
        "dataset.fillna(dataset.mean(),inplace=True)  #filling average values in the place of null values "
      ],
      "execution_count": 10,
      "outputs": []
    },
    {
      "cell_type": "code",
      "metadata": {
        "colab": {
          "base_uri": "https://localhost:8080/",
          "height": 419
        },
        "id": "aEVwohRH-fpw",
        "outputId": "f59a0352-8c40-439f-998a-1702253c08d3"
      },
      "source": [
        "dataset"
      ],
      "execution_count": 11,
      "outputs": [
        {
          "output_type": "execute_result",
          "data": {
            "text/html": [
              "<div>\n",
              "<style scoped>\n",
              "    .dataframe tbody tr th:only-of-type {\n",
              "        vertical-align: middle;\n",
              "    }\n",
              "\n",
              "    .dataframe tbody tr th {\n",
              "        vertical-align: top;\n",
              "    }\n",
              "\n",
              "    .dataframe thead th {\n",
              "        text-align: right;\n",
              "    }\n",
              "</style>\n",
              "<table border=\"1\" class=\"dataframe\">\n",
              "  <thead>\n",
              "    <tr style=\"text-align: right;\">\n",
              "      <th></th>\n",
              "      <th>ph</th>\n",
              "      <th>Hardness</th>\n",
              "      <th>Solids</th>\n",
              "      <th>Chloramines</th>\n",
              "      <th>Sulfate</th>\n",
              "      <th>Conductivity</th>\n",
              "      <th>Organic_carbon</th>\n",
              "      <th>Trihalomethanes</th>\n",
              "      <th>Turbidity</th>\n",
              "      <th>Potability</th>\n",
              "    </tr>\n",
              "  </thead>\n",
              "  <tbody>\n",
              "    <tr>\n",
              "      <th>0</th>\n",
              "      <td>7.080795</td>\n",
              "      <td>204.890455</td>\n",
              "      <td>20791.318981</td>\n",
              "      <td>7.300212</td>\n",
              "      <td>368.516441</td>\n",
              "      <td>564.308654</td>\n",
              "      <td>10.379783</td>\n",
              "      <td>86.990970</td>\n",
              "      <td>2.963135</td>\n",
              "      <td>0</td>\n",
              "    </tr>\n",
              "    <tr>\n",
              "      <th>1</th>\n",
              "      <td>3.716080</td>\n",
              "      <td>129.422921</td>\n",
              "      <td>18630.057858</td>\n",
              "      <td>6.635246</td>\n",
              "      <td>333.775777</td>\n",
              "      <td>592.885359</td>\n",
              "      <td>15.180013</td>\n",
              "      <td>56.329076</td>\n",
              "      <td>4.500656</td>\n",
              "      <td>0</td>\n",
              "    </tr>\n",
              "    <tr>\n",
              "      <th>2</th>\n",
              "      <td>8.099124</td>\n",
              "      <td>224.236259</td>\n",
              "      <td>19909.541732</td>\n",
              "      <td>9.275884</td>\n",
              "      <td>333.775777</td>\n",
              "      <td>418.606213</td>\n",
              "      <td>16.868637</td>\n",
              "      <td>66.420093</td>\n",
              "      <td>3.055934</td>\n",
              "      <td>0</td>\n",
              "    </tr>\n",
              "    <tr>\n",
              "      <th>3</th>\n",
              "      <td>8.316766</td>\n",
              "      <td>214.373394</td>\n",
              "      <td>22018.417441</td>\n",
              "      <td>8.059332</td>\n",
              "      <td>356.886136</td>\n",
              "      <td>363.266516</td>\n",
              "      <td>18.436524</td>\n",
              "      <td>100.341674</td>\n",
              "      <td>4.628771</td>\n",
              "      <td>0</td>\n",
              "    </tr>\n",
              "    <tr>\n",
              "      <th>4</th>\n",
              "      <td>9.092223</td>\n",
              "      <td>181.101509</td>\n",
              "      <td>17978.986339</td>\n",
              "      <td>6.546600</td>\n",
              "      <td>310.135738</td>\n",
              "      <td>398.410813</td>\n",
              "      <td>11.558279</td>\n",
              "      <td>31.997993</td>\n",
              "      <td>4.075075</td>\n",
              "      <td>0</td>\n",
              "    </tr>\n",
              "    <tr>\n",
              "      <th>...</th>\n",
              "      <td>...</td>\n",
              "      <td>...</td>\n",
              "      <td>...</td>\n",
              "      <td>...</td>\n",
              "      <td>...</td>\n",
              "      <td>...</td>\n",
              "      <td>...</td>\n",
              "      <td>...</td>\n",
              "      <td>...</td>\n",
              "      <td>...</td>\n",
              "    </tr>\n",
              "    <tr>\n",
              "      <th>3271</th>\n",
              "      <td>4.668102</td>\n",
              "      <td>193.681735</td>\n",
              "      <td>47580.991603</td>\n",
              "      <td>7.166639</td>\n",
              "      <td>359.948574</td>\n",
              "      <td>526.424171</td>\n",
              "      <td>13.894419</td>\n",
              "      <td>66.687695</td>\n",
              "      <td>4.435821</td>\n",
              "      <td>1</td>\n",
              "    </tr>\n",
              "    <tr>\n",
              "      <th>3272</th>\n",
              "      <td>7.808856</td>\n",
              "      <td>193.553212</td>\n",
              "      <td>17329.802160</td>\n",
              "      <td>8.061362</td>\n",
              "      <td>333.775777</td>\n",
              "      <td>392.449580</td>\n",
              "      <td>19.903225</td>\n",
              "      <td>66.396293</td>\n",
              "      <td>2.798243</td>\n",
              "      <td>1</td>\n",
              "    </tr>\n",
              "    <tr>\n",
              "      <th>3273</th>\n",
              "      <td>9.419510</td>\n",
              "      <td>175.762646</td>\n",
              "      <td>33155.578218</td>\n",
              "      <td>7.350233</td>\n",
              "      <td>333.775777</td>\n",
              "      <td>432.044783</td>\n",
              "      <td>11.039070</td>\n",
              "      <td>69.845400</td>\n",
              "      <td>3.298875</td>\n",
              "      <td>1</td>\n",
              "    </tr>\n",
              "    <tr>\n",
              "      <th>3274</th>\n",
              "      <td>5.126763</td>\n",
              "      <td>230.603758</td>\n",
              "      <td>11983.869376</td>\n",
              "      <td>6.303357</td>\n",
              "      <td>333.775777</td>\n",
              "      <td>402.883113</td>\n",
              "      <td>11.168946</td>\n",
              "      <td>77.488213</td>\n",
              "      <td>4.708658</td>\n",
              "      <td>1</td>\n",
              "    </tr>\n",
              "    <tr>\n",
              "      <th>3275</th>\n",
              "      <td>7.874671</td>\n",
              "      <td>195.102299</td>\n",
              "      <td>17404.177061</td>\n",
              "      <td>7.509306</td>\n",
              "      <td>333.775777</td>\n",
              "      <td>327.459760</td>\n",
              "      <td>16.140368</td>\n",
              "      <td>78.698446</td>\n",
              "      <td>2.309149</td>\n",
              "      <td>1</td>\n",
              "    </tr>\n",
              "  </tbody>\n",
              "</table>\n",
              "<p>3276 rows × 10 columns</p>\n",
              "</div>"
            ],
            "text/plain": [
              "            ph    Hardness  ...  Turbidity  Potability\n",
              "0     7.080795  204.890455  ...   2.963135           0\n",
              "1     3.716080  129.422921  ...   4.500656           0\n",
              "2     8.099124  224.236259  ...   3.055934           0\n",
              "3     8.316766  214.373394  ...   4.628771           0\n",
              "4     9.092223  181.101509  ...   4.075075           0\n",
              "...        ...         ...  ...        ...         ...\n",
              "3271  4.668102  193.681735  ...   4.435821           1\n",
              "3272  7.808856  193.553212  ...   2.798243           1\n",
              "3273  9.419510  175.762646  ...   3.298875           1\n",
              "3274  5.126763  230.603758  ...   4.708658           1\n",
              "3275  7.874671  195.102299  ...   2.309149           1\n",
              "\n",
              "[3276 rows x 10 columns]"
            ]
          },
          "metadata": {},
          "execution_count": 11
        }
      ]
    },
    {
      "cell_type": "code",
      "metadata": {
        "colab": {
          "base_uri": "https://localhost:8080/"
        },
        "id": "nxwsLBloLpO0",
        "outputId": "e319e93c-22ce-4593-c76d-e9efed8ccdf0"
      },
      "source": [
        "dataset.isnull().sum() "
      ],
      "execution_count": 12,
      "outputs": [
        {
          "output_type": "execute_result",
          "data": {
            "text/plain": [
              "ph                 0\n",
              "Hardness           0\n",
              "Solids             0\n",
              "Chloramines        0\n",
              "Sulfate            0\n",
              "Conductivity       0\n",
              "Organic_carbon     0\n",
              "Trihalomethanes    0\n",
              "Turbidity          0\n",
              "Potability         0\n",
              "dtype: int64"
            ]
          },
          "metadata": {},
          "execution_count": 12
        }
      ]
    },
    {
      "cell_type": "code",
      "metadata": {
        "colab": {
          "base_uri": "https://localhost:8080/",
          "height": 297
        },
        "id": "ox1qidn78gAZ",
        "outputId": "d381655a-b602-440e-9025-a0522b6c8e65"
      },
      "source": [
        "dataset.describe()        #REPLACE NULL VALUES WITH MEDIAN AND MEAN VALUES"
      ],
      "execution_count": 13,
      "outputs": [
        {
          "output_type": "execute_result",
          "data": {
            "text/html": [
              "<div>\n",
              "<style scoped>\n",
              "    .dataframe tbody tr th:only-of-type {\n",
              "        vertical-align: middle;\n",
              "    }\n",
              "\n",
              "    .dataframe tbody tr th {\n",
              "        vertical-align: top;\n",
              "    }\n",
              "\n",
              "    .dataframe thead th {\n",
              "        text-align: right;\n",
              "    }\n",
              "</style>\n",
              "<table border=\"1\" class=\"dataframe\">\n",
              "  <thead>\n",
              "    <tr style=\"text-align: right;\">\n",
              "      <th></th>\n",
              "      <th>ph</th>\n",
              "      <th>Hardness</th>\n",
              "      <th>Solids</th>\n",
              "      <th>Chloramines</th>\n",
              "      <th>Sulfate</th>\n",
              "      <th>Conductivity</th>\n",
              "      <th>Organic_carbon</th>\n",
              "      <th>Trihalomethanes</th>\n",
              "      <th>Turbidity</th>\n",
              "      <th>Potability</th>\n",
              "    </tr>\n",
              "  </thead>\n",
              "  <tbody>\n",
              "    <tr>\n",
              "      <th>count</th>\n",
              "      <td>3276.000000</td>\n",
              "      <td>3276.000000</td>\n",
              "      <td>3276.000000</td>\n",
              "      <td>3276.000000</td>\n",
              "      <td>3276.000000</td>\n",
              "      <td>3276.000000</td>\n",
              "      <td>3276.000000</td>\n",
              "      <td>3276.000000</td>\n",
              "      <td>3276.000000</td>\n",
              "      <td>3276.000000</td>\n",
              "    </tr>\n",
              "    <tr>\n",
              "      <th>mean</th>\n",
              "      <td>7.080795</td>\n",
              "      <td>196.369496</td>\n",
              "      <td>22014.092526</td>\n",
              "      <td>7.122277</td>\n",
              "      <td>333.775777</td>\n",
              "      <td>426.205111</td>\n",
              "      <td>14.284970</td>\n",
              "      <td>66.396293</td>\n",
              "      <td>3.966786</td>\n",
              "      <td>0.390110</td>\n",
              "    </tr>\n",
              "    <tr>\n",
              "      <th>std</th>\n",
              "      <td>1.469956</td>\n",
              "      <td>32.879761</td>\n",
              "      <td>8768.570828</td>\n",
              "      <td>1.583085</td>\n",
              "      <td>36.142612</td>\n",
              "      <td>80.824064</td>\n",
              "      <td>3.308162</td>\n",
              "      <td>15.769881</td>\n",
              "      <td>0.780382</td>\n",
              "      <td>0.487849</td>\n",
              "    </tr>\n",
              "    <tr>\n",
              "      <th>min</th>\n",
              "      <td>0.000000</td>\n",
              "      <td>47.432000</td>\n",
              "      <td>320.942611</td>\n",
              "      <td>0.352000</td>\n",
              "      <td>129.000000</td>\n",
              "      <td>181.483754</td>\n",
              "      <td>2.200000</td>\n",
              "      <td>0.738000</td>\n",
              "      <td>1.450000</td>\n",
              "      <td>0.000000</td>\n",
              "    </tr>\n",
              "    <tr>\n",
              "      <th>25%</th>\n",
              "      <td>6.277673</td>\n",
              "      <td>176.850538</td>\n",
              "      <td>15666.690297</td>\n",
              "      <td>6.127421</td>\n",
              "      <td>317.094638</td>\n",
              "      <td>365.734414</td>\n",
              "      <td>12.065801</td>\n",
              "      <td>56.647656</td>\n",
              "      <td>3.439711</td>\n",
              "      <td>0.000000</td>\n",
              "    </tr>\n",
              "    <tr>\n",
              "      <th>50%</th>\n",
              "      <td>7.080795</td>\n",
              "      <td>196.967627</td>\n",
              "      <td>20927.833607</td>\n",
              "      <td>7.130299</td>\n",
              "      <td>333.775777</td>\n",
              "      <td>421.884968</td>\n",
              "      <td>14.218338</td>\n",
              "      <td>66.396293</td>\n",
              "      <td>3.955028</td>\n",
              "      <td>0.000000</td>\n",
              "    </tr>\n",
              "    <tr>\n",
              "      <th>75%</th>\n",
              "      <td>7.870050</td>\n",
              "      <td>216.667456</td>\n",
              "      <td>27332.762127</td>\n",
              "      <td>8.114887</td>\n",
              "      <td>350.385756</td>\n",
              "      <td>481.792304</td>\n",
              "      <td>16.557652</td>\n",
              "      <td>76.666609</td>\n",
              "      <td>4.500320</td>\n",
              "      <td>1.000000</td>\n",
              "    </tr>\n",
              "    <tr>\n",
              "      <th>max</th>\n",
              "      <td>14.000000</td>\n",
              "      <td>323.124000</td>\n",
              "      <td>61227.196008</td>\n",
              "      <td>13.127000</td>\n",
              "      <td>481.030642</td>\n",
              "      <td>753.342620</td>\n",
              "      <td>28.300000</td>\n",
              "      <td>124.000000</td>\n",
              "      <td>6.739000</td>\n",
              "      <td>1.000000</td>\n",
              "    </tr>\n",
              "  </tbody>\n",
              "</table>\n",
              "</div>"
            ],
            "text/plain": [
              "                ph     Hardness  ...    Turbidity   Potability\n",
              "count  3276.000000  3276.000000  ...  3276.000000  3276.000000\n",
              "mean      7.080795   196.369496  ...     3.966786     0.390110\n",
              "std       1.469956    32.879761  ...     0.780382     0.487849\n",
              "min       0.000000    47.432000  ...     1.450000     0.000000\n",
              "25%       6.277673   176.850538  ...     3.439711     0.000000\n",
              "50%       7.080795   196.967627  ...     3.955028     0.000000\n",
              "75%       7.870050   216.667456  ...     4.500320     1.000000\n",
              "max      14.000000   323.124000  ...     6.739000     1.000000\n",
              "\n",
              "[8 rows x 10 columns]"
            ]
          },
          "metadata": {},
          "execution_count": 13
        }
      ]
    },
    {
      "cell_type": "markdown",
      "metadata": {
        "id": "yZduNI4jBfr_"
      },
      "source": [
        "IF DIMENTIONALITY REDUCTION NEEDED OR NOT\n"
      ]
    },
    {
      "cell_type": "code",
      "metadata": {
        "colab": {
          "base_uri": "https://localhost:8080/",
          "height": 451
        },
        "id": "TkDCqS5xMIFN",
        "outputId": "b8762682-227b-46c7-bb8a-ac3d4905e24b"
      },
      "source": [
        "sns.heatmap(dataset.corr(),annot=True,cmap='terrain');\n",
        "fig=plt.gcf()\n",
        "fig.set_size_inches(10,6)"
      ],
      "execution_count": 14,
      "outputs": [
        {
          "output_type": "display_data",
          "data": {
            "image/png": "[encoded data removed]",
            "text/plain": [
              "<Figure size 720x432 with 2 Axes>"
            ]
          },
          "metadata": {
            "needs_background": "light"
          }
        }
      ]
    },
    {
      "cell_type": "markdown",
      "metadata": {
        "id": "eA6frIG2KMia"
      },
      "source": [
        "OUTLIER CHECKING"
      ]
    },
    {
      "cell_type": "code",
      "metadata": {
        "colab": {
          "base_uri": "https://localhost:8080/",
          "height": 392
        },
        "id": "iH9Bp3B_Gpd8",
        "outputId": "a7ce2a8b-592f-40a1-c7b3-ce26f1d0cc97"
      },
      "source": [
        "dataset.boxplot(figsize=(15,6))"
      ],
      "execution_count": 15,
      "outputs": [
        {
          "output_type": "execute_result",
          "data": {
            "text/plain": [
              "<matplotlib.axes._subplots.AxesSubplot at 0x7f5d3b21af10>"
            ]
          },
          "metadata": {},
          "execution_count": 15
        },
        {
          "output_type": "display_data",
          "data": {
            "image/png": "[encoded data removed]",
            "text/plain": [
              "<Figure size 1080x432 with 1 Axes>"
            ]
          },
          "metadata": {
            "needs_background": "light"
          }
        }
      ]
    },
    {
      "cell_type": "code",
      "metadata": {
        "colab": {
          "base_uri": "https://localhost:8080/"
        },
        "id": "BQemq2S-ISsT",
        "outputId": "631be819-1cf1-42eb-bf42-eee7e5c1bc42"
      },
      "source": [
        "dataset['Solids'].describe()"
      ],
      "execution_count": 16,
      "outputs": [
        {
          "output_type": "execute_result",
          "data": {
            "text/plain": [
              "count     3276.000000\n",
              "mean     22014.092526\n",
              "std       8768.570828\n",
              "min        320.942611\n",
              "25%      15666.690297\n",
              "50%      20927.833607\n",
              "75%      27332.762127\n",
              "max      61227.196008\n",
              "Name: Solids, dtype: float64"
            ]
          },
          "metadata": {},
          "execution_count": 16
        }
      ]
    },
    {
      "cell_type": "code",
      "metadata": {
        "colab": {
          "base_uri": "https://localhost:8080/"
        },
        "id": "ZhylVn5pJuni",
        "outputId": "3bcd1823-b06a-4b2e-8d38-cb348680346f"
      },
      "source": [
        "dataset['Solids']           #not removing outliers due to it may impact the water quality"
      ],
      "execution_count": 17,
      "outputs": [
        {
          "output_type": "execute_result",
          "data": {
            "text/plain": [
              "0       20791.318981\n",
              "1       18630.057858\n",
              "2       19909.541732\n",
              "3       22018.417441\n",
              "4       17978.986339\n",
              "            ...     \n",
              "3271    47580.991603\n",
              "3272    17329.802160\n",
              "3273    33155.578218\n",
              "3274    11983.869376\n",
              "3275    17404.177061\n",
              "Name: Solids, Length: 3276, dtype: float64"
            ]
          },
          "metadata": {},
          "execution_count": 17
        }
      ]
    },
    {
      "cell_type": "markdown",
      "metadata": {
        "id": "nQinqad9KC_n"
      },
      "source": [
        "LABEL ENCODING     #Converting String to Integer\n",
        "\n",
        "\n",
        "we have all integers so need not to do label encoding"
      ]
    },
    {
      "cell_type": "markdown",
      "metadata": {
        "id": "sZvkWpZ0KxwH"
      },
      "source": [
        "MORE EDA"
      ]
    },
    {
      "cell_type": "code",
      "metadata": {
        "colab": {
          "base_uri": "https://localhost:8080/",
          "height": 204
        },
        "id": "-_kzUS-WKcgj",
        "outputId": "c8ed15fd-ed30-4d07-dba6-d28f1ca67edc"
      },
      "source": [
        "dataset.head()"
      ],
      "execution_count": 18,
      "outputs": [
        {
          "output_type": "execute_result",
          "data": {
            "text/html": [
              "<div>\n",
              "<style scoped>\n",
              "    .dataframe tbody tr th:only-of-type {\n",
              "        vertical-align: middle;\n",
              "    }\n",
              "\n",
              "    .dataframe tbody tr th {\n",
              "        vertical-align: top;\n",
              "    }\n",
              "\n",
              "    .dataframe thead th {\n",
              "        text-align: right;\n",
              "    }\n",
              "</style>\n",
              "<table border=\"1\" class=\"dataframe\">\n",
              "  <thead>\n",
              "    <tr style=\"text-align: right;\">\n",
              "      <th></th>\n",
              "      <th>ph</th>\n",
              "      <th>Hardness</th>\n",
              "      <th>Solids</th>\n",
              "      <th>Chloramines</th>\n",
              "      <th>Sulfate</th>\n",
              "      <th>Conductivity</th>\n",
              "      <th>Organic_carbon</th>\n",
              "      <th>Trihalomethanes</th>\n",
              "      <th>Turbidity</th>\n",
              "      <th>Potability</th>\n",
              "    </tr>\n",
              "  </thead>\n",
              "  <tbody>\n",
              "    <tr>\n",
              "      <th>0</th>\n",
              "      <td>7.080795</td>\n",
              "      <td>204.890455</td>\n",
              "      <td>20791.318981</td>\n",
              "      <td>7.300212</td>\n",
              "      <td>368.516441</td>\n",
              "      <td>564.308654</td>\n",
              "      <td>10.379783</td>\n",
              "      <td>86.990970</td>\n",
              "      <td>2.963135</td>\n",
              "      <td>0</td>\n",
              "    </tr>\n",
              "    <tr>\n",
              "      <th>1</th>\n",
              "      <td>3.716080</td>\n",
              "      <td>129.422921</td>\n",
              "      <td>18630.057858</td>\n",
              "      <td>6.635246</td>\n",
              "      <td>333.775777</td>\n",
              "      <td>592.885359</td>\n",
              "      <td>15.180013</td>\n",
              "      <td>56.329076</td>\n",
              "      <td>4.500656</td>\n",
              "      <td>0</td>\n",
              "    </tr>\n",
              "    <tr>\n",
              "      <th>2</th>\n",
              "      <td>8.099124</td>\n",
              "      <td>224.236259</td>\n",
              "      <td>19909.541732</td>\n",
              "      <td>9.275884</td>\n",
              "      <td>333.775777</td>\n",
              "      <td>418.606213</td>\n",
              "      <td>16.868637</td>\n",
              "      <td>66.420093</td>\n",
              "      <td>3.055934</td>\n",
              "      <td>0</td>\n",
              "    </tr>\n",
              "    <tr>\n",
              "      <th>3</th>\n",
              "      <td>8.316766</td>\n",
              "      <td>214.373394</td>\n",
              "      <td>22018.417441</td>\n",
              "      <td>8.059332</td>\n",
              "      <td>356.886136</td>\n",
              "      <td>363.266516</td>\n",
              "      <td>18.436524</td>\n",
              "      <td>100.341674</td>\n",
              "      <td>4.628771</td>\n",
              "      <td>0</td>\n",
              "    </tr>\n",
              "    <tr>\n",
              "      <th>4</th>\n",
              "      <td>9.092223</td>\n",
              "      <td>181.101509</td>\n",
              "      <td>17978.986339</td>\n",
              "      <td>6.546600</td>\n",
              "      <td>310.135738</td>\n",
              "      <td>398.410813</td>\n",
              "      <td>11.558279</td>\n",
              "      <td>31.997993</td>\n",
              "      <td>4.075075</td>\n",
              "      <td>0</td>\n",
              "    </tr>\n",
              "  </tbody>\n",
              "</table>\n",
              "</div>"
            ],
            "text/plain": [
              "         ph    Hardness        Solids  ...  Trihalomethanes  Turbidity  Potability\n",
              "0  7.080795  204.890455  20791.318981  ...        86.990970   2.963135           0\n",
              "1  3.716080  129.422921  18630.057858  ...        56.329076   4.500656           0\n",
              "2  8.099124  224.236259  19909.541732  ...        66.420093   3.055934           0\n",
              "3  8.316766  214.373394  22018.417441  ...       100.341674   4.628771           0\n",
              "4  9.092223  181.101509  17978.986339  ...        31.997993   4.075075           0\n",
              "\n",
              "[5 rows x 10 columns]"
            ]
          },
          "metadata": {},
          "execution_count": 18
        }
      ]
    },
    {
      "cell_type": "code",
      "metadata": {
        "colab": {
          "base_uri": "https://localhost:8080/"
        },
        "id": "36z2aUrrL-tH",
        "outputId": "2fccaa67-e2fb-4989-9023-508fb099351a"
      },
      "source": [
        "dataset['Potability'].value_counts()"
      ],
      "execution_count": 19,
      "outputs": [
        {
          "output_type": "execute_result",
          "data": {
            "text/plain": [
              "0    1998\n",
              "1    1278\n",
              "Name: Potability, dtype: int64"
            ]
          },
          "metadata": {},
          "execution_count": 19
        }
      ]
    },
    {
      "cell_type": "code",
      "metadata": {
        "colab": {
          "base_uri": "https://localhost:8080/",
          "height": 333
        },
        "id": "LstrP710LhL3",
        "outputId": "22f2593f-8780-4c65-e0af-2b3104d829b3"
      },
      "source": [
        "sns.countplot(dataset['Potability']);\n",
        "plt.show()"
      ],
      "execution_count": 20,
      "outputs": [
        {
          "output_type": "stream",
          "name": "stderr",
          "text": [
            "/usr/local/lib/python3.7/dist-packages/seaborn/_decorators.py:43: FutureWarning: Pass the following variable as a keyword arg: x. From version 0.12, the only valid positional argument will be `data`, and passing other arguments without an explicit keyword will result in an error or misinterpretation.\n",
            "  FutureWarning\n"
          ]
        },
        {
          "output_type": "display_data",
          "data": {
            "image/png": "[encoded data removed]",
            "text/plain": [
              "<Figure size 432x288 with 1 Axes>"
            ]
          },
          "metadata": {
            "needs_background": "light"
          }
        }
      ]
    },
    {
      "cell_type": "code",
      "metadata": {
        "colab": {
          "base_uri": "https://localhost:8080/",
          "height": 716
        },
        "id": "z7EGLul_MjeN",
        "outputId": "a007a942-1e95-4f32-be0a-f109a0c062f7"
      },
      "source": [
        "dataset.hist(figsize=(14,12));"
      ],
      "execution_count": 21,
      "outputs": [
        {
          "output_type": "display_data",
          "data": {
            "image/png": "[encoded data removed]",
            "text/plain": [
              "<Figure size 1008x864 with 12 Axes>"
            ]
          },
          "metadata": {
            "needs_background": "light"
          }
        }
      ]
    },
    {
      "cell_type": "code",
      "metadata": {
        "colab": {
          "base_uri": "https://localhost:8080/",
          "height": 296
        },
        "id": "EKVvDA7bNMVd",
        "outputId": "4681a9ee-2d53-481c-db6c-a5a814ce4667"
      },
      "source": [
        "sns.barplot(x=dataset[\"ph\"],y=dataset['Hardness'],hue=dataset['Potability'])"
      ],
      "execution_count": 22,
      "outputs": [
        {
          "output_type": "execute_result",
          "data": {
            "text/plain": [
              "<matplotlib.axes._subplots.AxesSubplot at 0x7f5d3ac65cd0>"
            ]
          },
          "metadata": {},
          "execution_count": 22
        },
        {
          "output_type": "display_data",
          "data": {
            "image/png": "[encoded data removed]",
            "text/plain": [
              "<Figure size 432x288 with 1 Axes>"
            ]
          },
          "metadata": {
            "needs_background": "light"
          }
        }
      ]
    },
    {
      "cell_type": "code",
      "metadata": {
        "colab": {
          "base_uri": "https://localhost:8080/",
          "height": 296
        },
        "id": "8Ry-wFTaOMBn",
        "outputId": "46d53b25-632c-4ddc-d11f-af62c6f9e4d1"
      },
      "source": [
        "sns.scatterplot(x=dataset[\"ph\"],y=dataset['Potability'])"
      ],
      "execution_count": 23,
      "outputs": [
        {
          "output_type": "execute_result",
          "data": {
            "text/plain": [
              "<matplotlib.axes._subplots.AxesSubplot at 0x7f5d382c5150>"
            ]
          },
          "metadata": {},
          "execution_count": 23
        },
        {
          "output_type": "display_data",
          "data": {
            "image/png": "[encoded data removed]",
            "text/plain": [
              "<Figure size 432x288 with 1 Axes>"
            ]
          },
          "metadata": {
            "needs_background": "light"
          }
        }
      ]
    },
    {
      "cell_type": "markdown",
      "metadata": {
        "id": "CgsXgbpPP_4l"
      },
      "source": [
        "NORMALIZATION\n",
        "Graphs are pretty normal so not needed or data is not skewed"
      ]
    },
    {
      "cell_type": "markdown",
      "metadata": {
        "id": "nWGQXePqQLS3"
      },
      "source": [
        "PARTITIONING"
      ]
    },
    {
      "cell_type": "code",
      "metadata": {
        "id": "KRd0KXIhQRGs"
      },
      "source": [
        "X=dataset.drop('Potability',axis=1)    #axis 1 represets column"
      ],
      "execution_count": 59,
      "outputs": []
    },
    {
      "cell_type": "code",
      "metadata": {
        "id": "oqF36atQQ7_I"
      },
      "source": [
        "y=dataset['Potability']"
      ],
      "execution_count": 25,
      "outputs": []
    },
    {
      "cell_type": "code",
      "metadata": {
        "id": "S3bhyaUFQuYZ"
      },
      "source": [
        "from sklearn.model_selection import train_test_split"
      ],
      "execution_count": 26,
      "outputs": []
    },
    {
      "cell_type": "code",
      "metadata": {
        "id": "B23mwulfRUkR"
      },
      "source": [
        "X_train,X_test,y_train,y_test=train_test_split(X,y,test_size=0.2,shuffle=True,random_state=101)"
      ],
      "execution_count": 35,
      "outputs": []
    },
    {
      "cell_type": "code",
      "metadata": {
        "colab": {
          "base_uri": "https://localhost:8080/",
          "height": 419
        },
        "id": "ova_3YMsSBSo",
        "outputId": "946c6bfa-2e66-4904-eb93-de446dcd6b78"
      },
      "source": [
        "X_train"
      ],
      "execution_count": 36,
      "outputs": [
        {
          "output_type": "execute_result",
          "data": {
            "text/html": [
              "<div>\n",
              "<style scoped>\n",
              "    .dataframe tbody tr th:only-of-type {\n",
              "        vertical-align: middle;\n",
              "    }\n",
              "\n",
              "    .dataframe tbody tr th {\n",
              "        vertical-align: top;\n",
              "    }\n",
              "\n",
              "    .dataframe thead th {\n",
              "        text-align: right;\n",
              "    }\n",
              "</style>\n",
              "<table border=\"1\" class=\"dataframe\">\n",
              "  <thead>\n",
              "    <tr style=\"text-align: right;\">\n",
              "      <th></th>\n",
              "      <th>ph</th>\n",
              "      <th>Hardness</th>\n",
              "      <th>Solids</th>\n",
              "      <th>Chloramines</th>\n",
              "      <th>Sulfate</th>\n",
              "      <th>Conductivity</th>\n",
              "      <th>Organic_carbon</th>\n",
              "      <th>Trihalomethanes</th>\n",
              "      <th>Turbidity</th>\n",
              "    </tr>\n",
              "  </thead>\n",
              "  <tbody>\n",
              "    <tr>\n",
              "      <th>748</th>\n",
              "      <td>6.750761</td>\n",
              "      <td>207.254505</td>\n",
              "      <td>23642.992597</td>\n",
              "      <td>7.691012</td>\n",
              "      <td>293.783040</td>\n",
              "      <td>446.696939</td>\n",
              "      <td>6.000391</td>\n",
              "      <td>30.900815</td>\n",
              "      <td>2.777726</td>\n",
              "    </tr>\n",
              "    <tr>\n",
              "      <th>2279</th>\n",
              "      <td>7.539742</td>\n",
              "      <td>201.959317</td>\n",
              "      <td>26716.359708</td>\n",
              "      <td>5.637350</td>\n",
              "      <td>333.775777</td>\n",
              "      <td>516.354560</td>\n",
              "      <td>14.985649</td>\n",
              "      <td>83.536821</td>\n",
              "      <td>4.210678</td>\n",
              "    </tr>\n",
              "    <tr>\n",
              "      <th>1960</th>\n",
              "      <td>8.128270</td>\n",
              "      <td>231.167537</td>\n",
              "      <td>19954.575554</td>\n",
              "      <td>5.138838</td>\n",
              "      <td>349.067363</td>\n",
              "      <td>386.071149</td>\n",
              "      <td>15.018085</td>\n",
              "      <td>63.340968</td>\n",
              "      <td>4.678742</td>\n",
              "    </tr>\n",
              "    <tr>\n",
              "      <th>1491</th>\n",
              "      <td>7.368166</td>\n",
              "      <td>204.041451</td>\n",
              "      <td>8524.874646</td>\n",
              "      <td>9.469763</td>\n",
              "      <td>429.814322</td>\n",
              "      <td>328.565288</td>\n",
              "      <td>11.173155</td>\n",
              "      <td>88.888819</td>\n",
              "      <td>3.684263</td>\n",
              "    </tr>\n",
              "    <tr>\n",
              "      <th>2991</th>\n",
              "      <td>6.628256</td>\n",
              "      <td>198.865743</td>\n",
              "      <td>15911.357509</td>\n",
              "      <td>7.517906</td>\n",
              "      <td>342.015924</td>\n",
              "      <td>437.918625</td>\n",
              "      <td>15.005742</td>\n",
              "      <td>38.845958</td>\n",
              "      <td>4.464457</td>\n",
              "    </tr>\n",
              "    <tr>\n",
              "      <th>...</th>\n",
              "      <td>...</td>\n",
              "      <td>...</td>\n",
              "      <td>...</td>\n",
              "      <td>...</td>\n",
              "      <td>...</td>\n",
              "      <td>...</td>\n",
              "      <td>...</td>\n",
              "      <td>...</td>\n",
              "      <td>...</td>\n",
              "    </tr>\n",
              "    <tr>\n",
              "      <th>599</th>\n",
              "      <td>7.080795</td>\n",
              "      <td>205.638790</td>\n",
              "      <td>39742.970329</td>\n",
              "      <td>4.660528</td>\n",
              "      <td>323.956492</td>\n",
              "      <td>509.546419</td>\n",
              "      <td>11.674850</td>\n",
              "      <td>55.042679</td>\n",
              "      <td>3.916746</td>\n",
              "    </tr>\n",
              "    <tr>\n",
              "      <th>1599</th>\n",
              "      <td>8.227083</td>\n",
              "      <td>274.351887</td>\n",
              "      <td>40546.956332</td>\n",
              "      <td>7.130161</td>\n",
              "      <td>241.446917</td>\n",
              "      <td>417.673702</td>\n",
              "      <td>9.809669</td>\n",
              "      <td>79.397105</td>\n",
              "      <td>3.619182</td>\n",
              "    </tr>\n",
              "    <tr>\n",
              "      <th>1361</th>\n",
              "      <td>4.906492</td>\n",
              "      <td>173.779159</td>\n",
              "      <td>14786.138901</td>\n",
              "      <td>5.843757</td>\n",
              "      <td>267.561144</td>\n",
              "      <td>620.346840</td>\n",
              "      <td>7.775896</td>\n",
              "      <td>38.794307</td>\n",
              "      <td>3.152345</td>\n",
              "    </tr>\n",
              "    <tr>\n",
              "      <th>1547</th>\n",
              "      <td>6.217585</td>\n",
              "      <td>203.707222</td>\n",
              "      <td>15597.640883</td>\n",
              "      <td>7.751461</td>\n",
              "      <td>361.247810</td>\n",
              "      <td>452.922025</td>\n",
              "      <td>14.597145</td>\n",
              "      <td>70.850977</td>\n",
              "      <td>4.150167</td>\n",
              "    </tr>\n",
              "    <tr>\n",
              "      <th>863</th>\n",
              "      <td>7.685397</td>\n",
              "      <td>230.335708</td>\n",
              "      <td>7324.701425</td>\n",
              "      <td>7.991366</td>\n",
              "      <td>331.512533</td>\n",
              "      <td>492.850391</td>\n",
              "      <td>14.233952</td>\n",
              "      <td>74.068658</td>\n",
              "      <td>4.179187</td>\n",
              "    </tr>\n",
              "  </tbody>\n",
              "</table>\n",
              "<p>2620 rows × 9 columns</p>\n",
              "</div>"
            ],
            "text/plain": [
              "            ph    Hardness  ...  Trihalomethanes  Turbidity\n",
              "748   6.750761  207.254505  ...        30.900815   2.777726\n",
              "2279  7.539742  201.959317  ...        83.536821   4.210678\n",
              "1960  8.128270  231.167537  ...        63.340968   4.678742\n",
              "1491  7.368166  204.041451  ...        88.888819   3.684263\n",
              "2991  6.628256  198.865743  ...        38.845958   4.464457\n",
              "...        ...         ...  ...              ...        ...\n",
              "599   7.080795  205.638790  ...        55.042679   3.916746\n",
              "1599  8.227083  274.351887  ...        79.397105   3.619182\n",
              "1361  4.906492  173.779159  ...        38.794307   3.152345\n",
              "1547  6.217585  203.707222  ...        70.850977   4.150167\n",
              "863   7.685397  230.335708  ...        74.068658   4.179187\n",
              "\n",
              "[2620 rows x 9 columns]"
            ]
          },
          "metadata": {},
          "execution_count": 36
        }
      ]
    },
    {
      "cell_type": "code",
      "metadata": {
        "colab": {
          "base_uri": "https://localhost:8080/"
        },
        "id": "MNipWni-SDVG",
        "outputId": "7a40b507-a63c-447f-a486-4bedf0987a68"
      },
      "source": [
        "y_train"
      ],
      "execution_count": 37,
      "outputs": [
        {
          "output_type": "execute_result",
          "data": {
            "text/plain": [
              "748     1\n",
              "2279    0\n",
              "1960    1\n",
              "1491    1\n",
              "2991    0\n",
              "       ..\n",
              "599     0\n",
              "1599    1\n",
              "1361    0\n",
              "1547    1\n",
              "863     0\n",
              "Name: Potability, Length: 2620, dtype: int64"
            ]
          },
          "metadata": {},
          "execution_count": 37
        }
      ]
    },
    {
      "cell_type": "code",
      "metadata": {
        "colab": {
          "base_uri": "https://localhost:8080/",
          "height": 419
        },
        "id": "xtbKWBVdSI6M",
        "outputId": "4f1462b1-87e6-4b06-ff7d-eeef2f5b7241"
      },
      "source": [
        "X_test"
      ],
      "execution_count": 39,
      "outputs": [
        {
          "output_type": "execute_result",
          "data": {
            "text/html": [
              "<div>\n",
              "<style scoped>\n",
              "    .dataframe tbody tr th:only-of-type {\n",
              "        vertical-align: middle;\n",
              "    }\n",
              "\n",
              "    .dataframe tbody tr th {\n",
              "        vertical-align: top;\n",
              "    }\n",
              "\n",
              "    .dataframe thead th {\n",
              "        text-align: right;\n",
              "    }\n",
              "</style>\n",
              "<table border=\"1\" class=\"dataframe\">\n",
              "  <thead>\n",
              "    <tr style=\"text-align: right;\">\n",
              "      <th></th>\n",
              "      <th>ph</th>\n",
              "      <th>Hardness</th>\n",
              "      <th>Solids</th>\n",
              "      <th>Chloramines</th>\n",
              "      <th>Sulfate</th>\n",
              "      <th>Conductivity</th>\n",
              "      <th>Organic_carbon</th>\n",
              "      <th>Trihalomethanes</th>\n",
              "      <th>Turbidity</th>\n",
              "    </tr>\n",
              "  </thead>\n",
              "  <tbody>\n",
              "    <tr>\n",
              "      <th>2541</th>\n",
              "      <td>5.735724</td>\n",
              "      <td>158.318741</td>\n",
              "      <td>25363.016594</td>\n",
              "      <td>7.728601</td>\n",
              "      <td>377.543291</td>\n",
              "      <td>568.304671</td>\n",
              "      <td>13.626624</td>\n",
              "      <td>75.952337</td>\n",
              "      <td>4.732954</td>\n",
              "    </tr>\n",
              "    <tr>\n",
              "      <th>2605</th>\n",
              "      <td>8.445219</td>\n",
              "      <td>228.522860</td>\n",
              "      <td>28966.569327</td>\n",
              "      <td>6.179855</td>\n",
              "      <td>333.775777</td>\n",
              "      <td>361.705354</td>\n",
              "      <td>14.554220</td>\n",
              "      <td>60.612230</td>\n",
              "      <td>4.400706</td>\n",
              "    </tr>\n",
              "    <tr>\n",
              "      <th>330</th>\n",
              "      <td>6.737004</td>\n",
              "      <td>220.100102</td>\n",
              "      <td>24694.744205</td>\n",
              "      <td>8.373660</td>\n",
              "      <td>333.775777</td>\n",
              "      <td>384.308673</td>\n",
              "      <td>6.748092</td>\n",
              "      <td>8.175876</td>\n",
              "      <td>4.063170</td>\n",
              "    </tr>\n",
              "    <tr>\n",
              "      <th>515</th>\n",
              "      <td>5.701155</td>\n",
              "      <td>233.515043</td>\n",
              "      <td>41411.601707</td>\n",
              "      <td>5.895464</td>\n",
              "      <td>310.160545</td>\n",
              "      <td>509.767888</td>\n",
              "      <td>22.686837</td>\n",
              "      <td>73.751883</td>\n",
              "      <td>3.403136</td>\n",
              "    </tr>\n",
              "    <tr>\n",
              "      <th>400</th>\n",
              "      <td>6.259652</td>\n",
              "      <td>208.379430</td>\n",
              "      <td>37356.746401</td>\n",
              "      <td>8.565487</td>\n",
              "      <td>256.473839</td>\n",
              "      <td>380.240193</td>\n",
              "      <td>5.567693</td>\n",
              "      <td>68.441865</td>\n",
              "      <td>4.213405</td>\n",
              "    </tr>\n",
              "    <tr>\n",
              "      <th>...</th>\n",
              "      <td>...</td>\n",
              "      <td>...</td>\n",
              "      <td>...</td>\n",
              "      <td>...</td>\n",
              "      <td>...</td>\n",
              "      <td>...</td>\n",
              "      <td>...</td>\n",
              "      <td>...</td>\n",
              "      <td>...</td>\n",
              "    </tr>\n",
              "    <tr>\n",
              "      <th>482</th>\n",
              "      <td>7.705711</td>\n",
              "      <td>178.922858</td>\n",
              "      <td>18476.619166</td>\n",
              "      <td>8.226228</td>\n",
              "      <td>334.889911</td>\n",
              "      <td>518.043369</td>\n",
              "      <td>10.638798</td>\n",
              "      <td>63.157489</td>\n",
              "      <td>3.861956</td>\n",
              "    </tr>\n",
              "    <tr>\n",
              "      <th>2970</th>\n",
              "      <td>10.933111</td>\n",
              "      <td>162.424918</td>\n",
              "      <td>18846.634913</td>\n",
              "      <td>7.085261</td>\n",
              "      <td>333.775777</td>\n",
              "      <td>593.725764</td>\n",
              "      <td>14.977233</td>\n",
              "      <td>60.690580</td>\n",
              "      <td>3.894989</td>\n",
              "    </tr>\n",
              "    <tr>\n",
              "      <th>50</th>\n",
              "      <td>7.080795</td>\n",
              "      <td>168.388431</td>\n",
              "      <td>27492.307307</td>\n",
              "      <td>7.046225</td>\n",
              "      <td>299.820478</td>\n",
              "      <td>383.795020</td>\n",
              "      <td>16.182066</td>\n",
              "      <td>75.729434</td>\n",
              "      <td>3.048057</td>\n",
              "    </tr>\n",
              "    <tr>\n",
              "      <th>839</th>\n",
              "      <td>7.611610</td>\n",
              "      <td>222.252269</td>\n",
              "      <td>25063.683013</td>\n",
              "      <td>8.561124</td>\n",
              "      <td>287.948123</td>\n",
              "      <td>505.265483</td>\n",
              "      <td>18.273757</td>\n",
              "      <td>68.395413</td>\n",
              "      <td>2.873261</td>\n",
              "    </tr>\n",
              "    <tr>\n",
              "      <th>374</th>\n",
              "      <td>8.882684</td>\n",
              "      <td>135.523062</td>\n",
              "      <td>4857.253807</td>\n",
              "      <td>5.209779</td>\n",
              "      <td>333.775777</td>\n",
              "      <td>532.336659</td>\n",
              "      <td>20.296274</td>\n",
              "      <td>20.337753</td>\n",
              "      <td>3.827921</td>\n",
              "    </tr>\n",
              "  </tbody>\n",
              "</table>\n",
              "<p>656 rows × 9 columns</p>\n",
              "</div>"
            ],
            "text/plain": [
              "             ph    Hardness  ...  Trihalomethanes  Turbidity\n",
              "2541   5.735724  158.318741  ...        75.952337   4.732954\n",
              "2605   8.445219  228.522860  ...        60.612230   4.400706\n",
              "330    6.737004  220.100102  ...         8.175876   4.063170\n",
              "515    5.701155  233.515043  ...        73.751883   3.403136\n",
              "400    6.259652  208.379430  ...        68.441865   4.213405\n",
              "...         ...         ...  ...              ...        ...\n",
              "482    7.705711  178.922858  ...        63.157489   3.861956\n",
              "2970  10.933111  162.424918  ...        60.690580   3.894989\n",
              "50     7.080795  168.388431  ...        75.729434   3.048057\n",
              "839    7.611610  222.252269  ...        68.395413   2.873261\n",
              "374    8.882684  135.523062  ...        20.337753   3.827921\n",
              "\n",
              "[656 rows x 9 columns]"
            ]
          },
          "metadata": {},
          "execution_count": 39
        }
      ]
    },
    {
      "cell_type": "code",
      "metadata": {
        "colab": {
          "base_uri": "https://localhost:8080/"
        },
        "id": "hDD5dflISMaV",
        "outputId": "55ad5c5e-07a9-4252-8164-d64ad135bab3"
      },
      "source": [
        "y_test"
      ],
      "execution_count": 40,
      "outputs": [
        {
          "output_type": "execute_result",
          "data": {
            "text/plain": [
              "2541    0\n",
              "2605    0\n",
              "330     1\n",
              "515     0\n",
              "400     1\n",
              "       ..\n",
              "482     0\n",
              "2970    0\n",
              "50      0\n",
              "839     0\n",
              "374     1\n",
              "Name: Potability, Length: 656, dtype: int64"
            ]
          },
          "metadata": {},
          "execution_count": 40
        }
      ]
    },
    {
      "cell_type": "markdown",
      "metadata": {
        "id": "iUU59eGFO7Rq"
      },
      "source": [
        "MODEL TRAINING"
      ]
    },
    {
      "cell_type": "markdown",
      "metadata": {
        "id": "2W6ntL8-P46x"
      },
      "source": [
        "DESCISION TREE"
      ]
    },
    {
      "cell_type": "code",
      "metadata": {
        "id": "mreIbOA-O_lD"
      },
      "source": [
        "from sklearn.tree import DecisionTreeClassifier\n",
        "dt=DecisionTreeClassifier(criterion='entropy',min_samples_split=9,splitter='best')"
      ],
      "execution_count": 65,
      "outputs": []
    },
    {
      "cell_type": "code",
      "metadata": {
        "id": "e6xdmJjJTXI_"
      },
      "source": [
        "dt.fit(X_train,y_train);"
      ],
      "execution_count": 66,
      "outputs": []
    },
    {
      "cell_type": "code",
      "metadata": {
        "colab": {
          "base_uri": "https://localhost:8080/"
        },
        "id": "7MNqilTig4yq",
        "outputId": "78691fdb-3e59-4dbb-d233-0e6c2b2c722a"
      },
      "source": [
        "prediction=dt.predict(X_test)\n",
        "accuracy_dt=accuracy_score(y_test,prediction)*100\n",
        "accuracy_dt"
      ],
      "execution_count": 78,
      "outputs": [
        {
          "output_type": "execute_result",
          "data": {
            "text/plain": [
              "60.0609756097561"
            ]
          },
          "metadata": {},
          "execution_count": 78
        }
      ]
    },
    {
      "cell_type": "code",
      "metadata": {
        "colab": {
          "base_uri": "https://localhost:8080/"
        },
        "id": "LWMLz61pgkDS",
        "outputId": "32c9a4ad-f53e-4e29-dabc-21335ff7716a"
      },
      "source": [
        "print(\"Accuracy on training set: {:.3f}\".format(dt.score(X_train, y_train)))\n",
        "print(\"Accuracy on test set: {:.3f}\".format(dt.score(X_test, y_test)))"
      ],
      "execution_count": 79,
      "outputs": [
        {
          "output_type": "stream",
          "name": "stdout",
          "text": [
            "Accuracy on training set: 0.941\n",
            "Accuracy on test set: 0.601\n"
          ]
        }
      ]
    },
    {
      "cell_type": "code",
      "metadata": {
        "colab": {
          "base_uri": "https://localhost:8080/"
        },
        "id": "BXNgY-ilgpvM",
        "outputId": "23d2487d-8c01-44c1-ba20-ed32bc8e00f8"
      },
      "source": [
        "accuracy_score(prediction,y_test)"
      ],
      "execution_count": 80,
      "outputs": [
        {
          "output_type": "execute_result",
          "data": {
            "text/plain": [
              "0.600609756097561"
            ]
          },
          "metadata": {},
          "execution_count": 80
        }
      ]
    },
    {
      "cell_type": "code",
      "metadata": {
        "id": "xHIJgAz3UuOH",
        "colab": {
          "base_uri": "https://localhost:8080/"
        },
        "outputId": "7e798ea6-a7a7-43d8-a604-b70e7f075d2c"
      },
      "source": [
        "print(\"Feature importances:\\n{}\".format(dt.feature_importances_))"
      ],
      "execution_count": 81,
      "outputs": [
        {
          "output_type": "stream",
          "name": "stdout",
          "text": [
            "Feature importances:\n",
            "[0.12137465 0.09707027 0.1008991  0.13340212 0.12880623 0.11266061\n",
            " 0.12440289 0.09337735 0.08800678]\n"
          ]
        }
      ]
    },
    {
      "cell_type": "code",
      "metadata": {
        "colab": {
          "base_uri": "https://localhost:8080/"
        },
        "id": "NhdpJN3Sekgb",
        "outputId": "30afc5f0-5988-42bc-9657-22e0fe30576f"
      },
      "source": [
        "confusion_matrix(prediction,y_test)"
      ],
      "execution_count": 83,
      "outputs": [
        {
          "output_type": "execute_result",
          "data": {
            "text/plain": [
              "array([[265, 125],\n",
              "       [137, 129]])"
            ]
          },
          "metadata": {},
          "execution_count": 83
        }
      ]
    },
    {
      "cell_type": "code",
      "metadata": {
        "id": "NGMwP3qvTEZV"
      },
      "source": [
        "y_prediction=dt.predict(x_test)"
      ],
      "execution_count": 60,
      "outputs": []
    },
    {
      "cell_type": "markdown",
      "metadata": {
        "id": "QULl6ltqhqP6"
      },
      "source": [
        "PREDECTING THE WATER QUALITY"
      ]
    },
    {
      "cell_type": "code",
      "metadata": {
        "colab": {
          "base_uri": "https://localhost:8080/"
        },
        "id": "Kon46al5hhur",
        "outputId": "e4c4c678-f6e7-409a-c6c5-3ad1c8f53765"
      },
      "source": [
        "X_DT=dt.predict([[5.735724, 158.318741,25363.016594,7.728601,377.543291,568.304671,13.626624,75.952337,4.732954]]);"
      ],
      "execution_count": 86,
      "outputs": [
        {
          "output_type": "stream",
          "name": "stderr",
          "text": [
            "/usr/local/lib/python3.7/dist-packages/sklearn/base.py:446: UserWarning: X does not have valid feature names, but DecisionTreeClassifier was fitted with feature names\n",
            "  \"X does not have valid feature names, but\"\n"
          ]
        }
      ]
    },
    {
      "cell_type": "code",
      "metadata": {
        "colab": {
          "base_uri": "https://localhost:8080/"
        },
        "id": "Qf8U3608hlxD",
        "outputId": "62cdbaf2-405d-4abb-e821-cb77e5fac8ae"
      },
      "source": [
        "X_DT"
      ],
      "execution_count": 85,
      "outputs": [
        {
          "output_type": "execute_result",
          "data": {
            "text/plain": [
              "array([1])"
            ]
          },
          "metadata": {},
          "execution_count": 85
        }
      ]
    }
  ]
}